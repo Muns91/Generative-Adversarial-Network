{
 "cells": [
  {
   "cell_type": "markdown",
   "metadata": {
    "id": "tMbLWAXprRWs"
   },
   "source": [
    "# CGAN 실습"
   ]
  },
  {
   "cell_type": "code",
   "execution_count": null,
   "metadata": {
    "id": "MMbA6FZZrQii"
   },
   "outputs": [],
   "source": [
    "import os\n",
    "import matplotlib.pyplot as plt\n",
    "import tensorflow as tf\n",
    "from tensorflow.keras import layers, models, metrics, optimizers\n",
    "from tensorflow.keras.datasets import mnist\n",
    "\n",
    "# MNIST 데이터 로드 및 전처리\n",
    "def load_mnist_data():\n",
    "    (X_train, y_train), (_, _) = mnist.load_data()\n",
    "    X_train = X_train.reshape(X_train.shape[0], 28, 28, 1).astype('float32')\n",
    "    X_train = (X_train - 127.5) / 127.5  # 이미지를 [-1, 1] 범위로 정규화\n",
    "    y_train = tf.keras.utils.to_categorical(y_train, 10)  # One-hot encoding\n",
    "    return X_train, y_train\n",
    "\n",
    "X_train, y_train = load_mnist_data()\n"
   ]
  },
  {
   "cell_type": "code",
   "execution_count": null,
   "metadata": {
    "id": "7lSarhJyv8k1"
   },
   "outputs": [],
   "source": [
    "class Hyperparameters:\n",
    "    def __init__(self):\n",
    "        self.image_size = (28, 28, 1)\n",
    "        self.classes = 10\n",
    "        self.batch_size = 32\n",
    "        self.z_dim = 100\n",
    "        self.learning_rate = 0.00005\n",
    "        self.adam_beta_1 = 0.5\n",
    "        self.adam_beta_2 = 0.999\n",
    "        self.epochs = 30\n",
    "        self.critic_steps = 5\n",
    "        self.gp_weight = 10.0\n"
   ]
  },
  {
   "cell_type": "code",
   "execution_count": null,
   "metadata": {
    "id": "PgPI0FfarNWv"
   },
   "outputs": [],
   "source": [
    "def make_generator_model(z_dim, num_classes=10):\n",
    "    noise = layers.Input(shape=(z_dim,))\n",
    "    label = layers.Input(shape=(num_classes,))\n",
    "    x = layers.Concatenate()([noise, label])\n",
    "    x = layers.Dense(7*7*256, use_bias=False)(x)\n",
    "    x = layers.BatchNormalization()(x)\n",
    "    x = layers.LeakyReLU()(x)\n",
    "    x = layers.Reshape((7, 7, 256))(x)\n",
    "    x = layers.Conv2DTranspose(128, (5, 5), strides=(1, 1), padding='same', use_bias=False)(x)\n",
    "    x = layers.BatchNormalization()(x)\n",
    "    x = layers.LeakyReLU()(x)\n",
    "    x = layers.Conv2DTranspose(64, (5, 5), strides=(2, 2), padding='same', use_bias=False)(x)\n",
    "    x = layers.BatchNormalization()(x)\n",
    "    x = layers.LeakyReLU()(x)\n",
    "    x = layers.Conv2DTranspose(1, (5, 5), strides=(2, 2), padding='same', use_bias=False, activation='tanh')(x)\n",
    "    model = models.Model([noise, label], x)\n",
    "    model.summary()\n",
    "    return model"
   ]
  },
  {
   "cell_type": "code",
   "execution_count": null,
   "metadata": {
    "id": "PgPI0FfarNWv"
   },
   "outputs": [],
   "source": [
    "def make_discriminator_model(input_shape=(28, 28, 1), num_classes=10):\n",
    "    image = layers.Input(shape=input_shape)\n",
    "    label = layers.Input(shape=(num_classes,))\n",
    "    label_img = layers.Dense(input_shape[0]*input_shape[1], activation='linear')(label)\n",
    "    label_img = layers.Reshape((input_shape[0], input_shape[1], 1))(label_img)\n",
    "    x = layers.Concatenate()([image, label_img])\n",
    "    x = layers.Conv2D(64, (5, 5), strides=(2, 2), padding='same')(x)\n",
    "    x = layers.LeakyReLU()(x)\n",
    "    x = layers.Dropout(0.3)(x)\n",
    "    x = layers.Conv2D(128, (5, 5), strides=(2, 2), padding='same')(x)\n",
    "    x = layers.LeakyReLU()(x)\n",
    "    x = layers.Dropout(0.3)(x)\n",
    "    x = layers.Flatten()(x)\n",
    "    x = layers.Dense(1)(x)\n",
    "    model = models.Model([image, label], x)\n",
    "    model.summary()\n",
    "    return model"
   ]
  },
  {
   "cell_type": "code",
   "execution_count": null,
   "metadata": {
    "id": "z-LZe3iErW17"
   },
   "outputs": [],
   "source": [
    "class ConditionalWGAN(models.Model):\n",
    "    def __init__(self, generator, discriminator, latent_dim=100, critic_steps=5, gp_weight=10.0):\n",
    "        super(ConditionalWGAN, self).__init__()\n",
    "        self.generator = generator\n",
    "        self.discriminator = discriminator\n",
    "        self.latent_dim = latent_dim\n",
    "        self.critic_steps = critic_steps\n",
    "        self.gp_weight = gp_weight\n",
    "        self.d_optimizer = optimizers.Adam(1e-4)\n",
    "        self.g_optimizer = optimizers.Adam(1e-4)\n",
    "\n",
    "    def compile(self):\n",
    "        super(ConditionalWGAN, self).compile()\n",
    "        self.d_loss_metric = metrics.Mean(name=\"d_loss\")\n",
    "        self.g_loss_metric = metrics.Mean(name=\"g_loss\")\n",
    "\n",
    "    @property\n",
    "    def metrics(self):\n",
    "        return [self.d_loss_metric, self.g_loss_metric]\n",
    "\n",
    "    def gradient_penalty(self, batch_size, real_images, fake_images, labels):\n",
    "        \"\"\"Calculates the gradient penalty.\"\"\"\n",
    "        alpha = tf.random.normal([batch_size, 1, 1, 1], 0.0, 1.0)\n",
    "        diff = fake_images - real_images\n",
    "        interpolated = real_images + alpha * diff\n",
    "\n",
    "        with tf.GradientTape() as gp_tape:\n",
    "            gp_tape.watch(interpolated)\n",
    "            pred = self.discriminator([interpolated, labels], training=True)\n",
    "\n",
    "        grads = gp_tape.gradient(pred, [interpolated])[0]\n",
    "        norm = tf.sqrt(tf.reduce_sum(tf.square(grads), axis=[1, 2, 3]))\n",
    "        gp = tf.reduce_mean((norm - 1.0) ** 2)\n",
    "        return gp\n",
    "\n",
    "    def train_step(self, data):\n",
    "        real_images, labels = data\n",
    "        batch_size = tf.shape(real_images)[0]\n",
    "\n",
    "        for _ in range(self.critic_steps):\n",
    "            random_latent_vectors = tf.random.normal(shape=(batch_size, self.latent_dim))\n",
    "            with tf.GradientTape() as tape:\n",
    "                fake_images = self.generator([random_latent_vectors, labels], training=True)\n",
    "                fake_logits = self.discriminator([fake_images, labels], training=True)\n",
    "                real_logits = self.discriminator([real_images, labels], training=True)\n",
    "                d_cost = tf.reduce_mean(fake_logits) - tf.reduce_mean(real_logits)\n",
    "                gp = self.gradient_penalty(batch_size, real_images, fake_images, labels)\n",
    "                d_loss = d_cost + gp * self.gp_weight\n",
    "\n",
    "            d_gradient = tape.gradient(d_loss, self.discriminator.trainable_variables)\n",
    "            self.d_optimizer.apply_gradients(zip(d_gradient, self.discriminator.trainable_variables))\n",
    "\n",
    "        random_latent_vectors = tf.random.normal(shape=(batch_size, self.latent_dim))\n",
    "        with tf.GradientTape() as tape:\n",
    "            generated_images = self.generator([random_latent_vectors, labels], training=True)\n",
    "            generated_logits = self.discriminator([generated_images, labels], training=True)\n",
    "            g_loss = -tf.reduce_mean(generated_logits)\n",
    "\n",
    "        g_gradient = tape.gradient(g_loss, self.generator.trainable_variables)\n",
    "        self.g_optimizer.apply_gradients(zip(g_gradient, self.generator.trainable_variables))\n",
    "\n",
    "        self.d_loss_metric.update_state(d_loss)\n",
    "        self.g_loss_metric.update_state(g_loss)\n",
    "\n",
    "        return {\"d_loss\": self.d_loss_metric.result(), \"g_loss\": self.g_loss_metric.result()}"
   ]
  },
  {
   "cell_type": "code",
   "execution_count": null,
   "metadata": {},
   "outputs": [],
   "source": [
    "if not os.path.exists('output'):\n",
    "    os.makedirs('output')"
   ]
  },
  {
   "cell_type": "code",
   "execution_count": null,
   "metadata": {
    "scrolled": true
   },
   "outputs": [],
   "source": [
    "params = Hyperparameters()\n",
    "generator = make_generator_model(params.z_dim)\n",
    "discriminator = make_discriminator_model(params.image_size)\n",
    "cgan = ConditionalWGAN(generator, discriminator, params.z_dim, params.critic_steps, params.gp_weight)\n",
    "cgan.compile()\n",
    "\n",
    "# 데이터셋 준비\n",
    "train_dataset = tf.data.Dataset.from_tensor_slices((X_train, y_train)).shuffle(1000).batch(params.batch_size)\n",
    "# save_images_callback = SaveImagesCallback(generator, params.z_dim)\n",
    "\n",
    "# 모델 훈련\n",
    "cgan.fit(train_dataset, epochs=params.epochs)\n"
   ]
  },
  {
   "cell_type": "code",
   "execution_count": null,
   "metadata": {
    "id": "KMCyuDbPrYgJ"
   },
   "outputs": [],
   "source": [
    "import numpy as np\n",
    "import matplotlib.pyplot as plt\n",
    "\n",
    "# 하이퍼파라미터 설정\n",
    "z_dim = 100  # 또는 Hyperparameters 클래스에서 정의된 값을 사용하세요.\n",
    "\n",
    "# 그리드 차원 설정\n",
    "image_grid_rows = 10\n",
    "image_grid_columns = 5\n",
    "\n",
    "# 랜덤한 잡음 샘플링\n",
    "z = np.random.normal(0, 1, (image_grid_rows * image_grid_columns, z_dim))\n",
    "\n",
    "# 생성할 이미지 레이블 준비 (0-9까지 각 숫자를 5번씩 생성)\n",
    "labels_to_generate = np.array([i for i in range(10) for _ in range(5)])\n",
    "labels_to_generate = tf.keras.utils.to_categorical(labels_to_generate, 10)  # 원-핫 인코딩\n",
    "\n",
    "# 랜덤한 잡음에서 이미지 생성\n",
    "gen_imgs = generator.predict([z, labels_to_generate])\n",
    "\n",
    "# 이미지 픽셀 값 [0, 1] 사이로 스케일 변환\n",
    "gen_imgs = 0.5 * gen_imgs + 0.5\n",
    "\n",
    "# 이미지 그리드 설정 및 출력\n",
    "fig, axs = plt.subplots(image_grid_rows, image_grid_columns, figsize=(10, 20), sharey=True, sharex=True)\n",
    "\n",
    "cnt = 0\n",
    "for i in range(image_grid_rows):\n",
    "    for j in range(image_grid_columns):\n",
    "        axs[i, j].imshow(gen_imgs[cnt, :, :, 0], cmap='gray')\n",
    "        axs[i, j].axis('off')\n",
    "        axs[i, j].set_title(f\"Digit: {np.argmax(labels_to_generate[cnt])}\")  # 각 이미지의 레이블을 타이틀로 표시\n",
    "        cnt += 1\n",
    "\n",
    "plt.show()\n"
   ]
  },
  {
   "cell_type": "code",
   "execution_count": null,
   "metadata": {},
   "outputs": [],
   "source": []
  }
 ],
 "metadata": {
  "colab": {
   "provenance": []
  },
  "kernelspec": {
   "display_name": "Python 3 (ipykernel)",
   "language": "python",
   "name": "python3"
  },
  "language_info": {
   "codemirror_mode": {
    "name": "ipython",
    "version": 3
   },
   "file_extension": ".py",
   "mimetype": "text/x-python",
   "name": "python",
   "nbconvert_exporter": "python",
   "pygments_lexer": "ipython3",
   "version": "3.8.18"
  }
 },
 "nbformat": 4,
 "nbformat_minor": 1
}
